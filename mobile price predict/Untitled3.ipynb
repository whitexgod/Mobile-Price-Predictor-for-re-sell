{
 "cells": [
  {
   "cell_type": "code",
   "execution_count": 1,
   "metadata": {},
   "outputs": [],
   "source": [
    "import requests\n",
    "import mechanize\n",
    "import bs4\n",
    "\n",
    "headers = {'User-Agent': 'Mozilla/5.0 (Windows NT 6.3; Win64; x64) AppleWebKit/537.36 (KHTML, like Gecko) Chrome/80.0.3987.162 Safari/537.36'}\n",
    "webpage=requests.get('https://www.quikr.com/mobiles-tablets/Mobile-Phones+India+y149f?selected_city=0&order=priceDesc',headers=headers).text"
   ]
  },
  {
   "cell_type": "code",
   "execution_count": 2,
   "metadata": {},
   "outputs": [],
   "source": [
    "soup = bs4.BeautifulSoup(webpage, 'html.parser')\n",
    "boxes=soup.findAll('div', class_='col-xs-6 col-sm-6 col-lg-6 addBox')\n",
    "\n",
    "name=[]\n",
    "brand=[]\n",
    "for i in boxes:\n",
    "    name.append(i.find('span',class_='descText').text.strip())\n",
    "    brand.append(i.find('prop').text.strip())\n",
    "    \n",
    "p=[]\n",
    "for i in boxes:\n",
    "    try:\n",
    "        p_tag=i.find('p').text.strip()\n",
    "        #print(p_tag)\n",
    "        if p_tag!=\"\":\n",
    "            p.append(p_tag)\n",
    "    except:\n",
    "        pass"
   ]
  },
  {
   "cell_type": "code",
   "execution_count": 3,
   "metadata": {},
   "outputs": [
    {
     "data": {
      "text/plain": [
       "['- 3GB RAM | 32GB ROM- 5.5 inch HD Display- 13MP Primary Camera | 5MP Front',\n",
       " '- 3GB RAM | 32GB ROM- 5.5 inch HD Display- 13MP Primary Camera | 5MP Front',\n",
       " '- 1GB RAM | 8GB ROM- 4.5 inch HD Display- 8MP Primary Camera | 2MP Front',\n",
       " '- 3GB RAM | 256GB ROM- 6.1 inch HD Display- 12MP Primary Camera | 7MP Front',\n",
       " '- 8GB RAM | 512GB ROM- 6.4 inch HD Display- 12MP Primary Camera | 8MP Front',\n",
       " '- 2GB RAM | 16GB ROM- 5 inch HD Display- 8MP Primary Camera | 5MP Front',\n",
       " '- 4GB RAM | 64GB ROM- 6.3 inch HD Display- 12.2MP Primary Camera | 8MP Front',\n",
       " '- 3GB RAM | 64GB ROM- 5.8 inch HD Display- 12MP Primary Camera | 7MP Front',\n",
       " '- 4GB RAM | 128GB ROM- 6 inch HD Display- 12.2MP Primary Camera | 8MP Front',\n",
       " '- 8GB RAM | 512GB ROM- 6.1 inch HD Display- 12MP Primary Camera',\n",
       " '- 2GB RAM | 16GB ROM- 5.5 inch HD Display- 13MP Primary Camera | 5MP Front',\n",
       " '- 3GB RAM | 256GB ROM- 5.5 inch HD Display- 12MP Primary Camera | 7MP Front',\n",
       " '- 2GB RAM | 64GB ROM- 5.5 inch HD Display- 12MP Primary Camera | 5MP Front',\n",
       " '- 3GB RAM | 16GB ROM- 5 inch HD Display- 13MP Primary Camera | 8MP Front',\n",
       " '- 6GB RAM | 256GB ROM- 6.2 inch HD Display- 12MP Primary Camera | 8MP Front',\n",
       " '- 3GB RAM | 128GB ROM- 6.1 inch HD Display- 12MP Primary Camera | 7MP Front',\n",
       " '- 2GB RAM | 16GB ROM- 5 inch HD Display- 8MP Primary Camera | 8MP Front',\n",
       " '- 3GB RAM | 32GB ROM- 5.5 inch HD Display- 13MP Primary Camera | 5MP Front',\n",
       " '- 1GB RAM | 16GB ROM- 4.5 inch HD Display- 5MP Primary Camera | 2MP Front',\n",
       " '- 3GB RAM | 256GB ROM- 5.5 inch HD Display- 12MP Primary Camera | 7MP Front',\n",
       " '- 3GB RAM | 64GB ROM- 6.1 inch HD Display- 12MP Primary Camera | 7MP Front',\n",
       " '- 2GB RAM | 256GB ROM- 4.7 inch HD Display- 12MP Primary Camera | 7MP Front',\n",
       " '- 2GB RAM | 16GB ROM- 5 inch HD Display- 8MP Primary Camera | 2MP Front',\n",
       " '- 6GB RAM | 128GB ROM- 6.4 inch HD Display- 12MP Primary Camera | 8MP Front',\n",
       " '- 4GB RAM | 128GB ROM- 5.5 inch HD Display- 12.2MP Primary Camera | 8MP Front']"
      ]
     },
     "execution_count": 3,
     "metadata": {},
     "output_type": "execute_result"
    }
   ],
   "source": [
    "p"
   ]
  },
  {
   "cell_type": "code",
   "execution_count": 4,
   "metadata": {},
   "outputs": [
    {
     "data": {
      "text/plain": [
       "['Panasonic Eluga Ray X',\n",
       " 'Xiaomi Redmi Note 4 (3GB/32GB)',\n",
       " 'HTC Desire 326G',\n",
       " 'Apple iPhone XR 256GB',\n",
       " 'Samsung Galaxy Note 9 (8GB/512GB)',\n",
       " 'Oppo A37',\n",
       " 'Google Pixel 3 XL',\n",
       " 'Samsung Clones',\n",
       " 'Apple Clones',\n",
       " 'Vivo Clones',\n",
       " 'Apple iPhone X',\n",
       " 'Google Pixel 2 XL 128GB',\n",
       " 'Samsung Galaxy S10 512GB',\n",
       " 'Lenovo K3 Note',\n",
       " 'Apple iPhone 8 Plus 256GB',\n",
       " 'Apple iPhone 6s Plus 64GB',\n",
       " 'Xiaomi Mi4',\n",
       " 'Samsung Galaxy S9+ (6GB/256GB)',\n",
       " 'Apple iPhone XR 128GB',\n",
       " 'Nokia 3',\n",
       " 'Gionee P7 Max',\n",
       " 'Vivo Y21L 4G',\n",
       " 'Apple iPhone 7 Plus 256GB',\n",
       " 'Apple iPhone XR',\n",
       " 'Apple iPhone 8 256GB',\n",
       " 'Motorola Moto C Plus',\n",
       " 'Samsung Galaxy Note 9',\n",
       " 'Google Pixel 3 128GB']"
      ]
     },
     "execution_count": 4,
     "metadata": {},
     "output_type": "execute_result"
    }
   ],
   "source": [
    "name"
   ]
  },
  {
   "cell_type": "code",
   "execution_count": 5,
   "metadata": {},
   "outputs": [
    {
     "data": {
      "text/plain": [
       "['Panasonic',\n",
       " 'Xiaomi',\n",
       " 'HTC',\n",
       " 'Apple',\n",
       " 'Samsung',\n",
       " 'Oppo',\n",
       " 'Google',\n",
       " 'Samsung',\n",
       " 'Apple',\n",
       " 'Vivo',\n",
       " 'Apple',\n",
       " 'Google',\n",
       " 'Samsung',\n",
       " 'Nokia',\n",
       " 'Apple',\n",
       " 'Apple',\n",
       " 'Xiaomi',\n",
       " 'Samsung',\n",
       " 'Apple',\n",
       " 'Nokia',\n",
       " 'Gionee',\n",
       " 'Vivo',\n",
       " 'Apple',\n",
       " 'Apple',\n",
       " 'Apple',\n",
       " 'Motorola',\n",
       " 'Samsung',\n",
       " 'Google']"
      ]
     },
     "execution_count": 5,
     "metadata": {},
     "output_type": "execute_result"
    }
   ],
   "source": [
    "brand"
   ]
  },
  {
   "cell_type": "code",
   "execution_count": null,
   "metadata": {},
   "outputs": [],
   "source": []
  }
 ],
 "metadata": {
  "kernelspec": {
   "display_name": "Python 3",
   "language": "python",
   "name": "python3"
  },
  "language_info": {
   "codemirror_mode": {
    "name": "ipython",
    "version": 3
   },
   "file_extension": ".py",
   "mimetype": "text/x-python",
   "name": "python",
   "nbconvert_exporter": "python",
   "pygments_lexer": "ipython3",
   "version": "3.7.4"
  }
 },
 "nbformat": 4,
 "nbformat_minor": 2
}
