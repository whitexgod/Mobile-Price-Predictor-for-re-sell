{
 "cells": [
  {
   "cell_type": "code",
   "execution_count": 1,
   "metadata": {},
   "outputs": [],
   "source": [
    "import requests\n",
    "import mechanize\n",
    "import bs4"
   ]
  },
  {
   "cell_type": "code",
   "execution_count": 2,
   "metadata": {},
   "outputs": [],
   "source": [
    "headers = {'User-Agent': 'Mozilla/5.0 (Windows NT 6.3; Win64; x64) AppleWebKit/537.36 (KHTML, like Gecko) Chrome/80.0.3987.162 Safari/537.36'}\n",
    "webpage=requests.get('https://www.quikr.com/mobiles-tablets/Mobile-Phones+India+y149f?selected_city=0&order=priceAsc',headers=headers).text"
   ]
  },
  {
   "cell_type": "code",
   "execution_count": 3,
   "metadata": {},
   "outputs": [],
   "source": [
    "soup = bs4.BeautifulSoup(webpage, 'html.parser')"
   ]
  },
  {
   "cell_type": "code",
   "execution_count": 4,
   "metadata": {},
   "outputs": [],
   "source": [
    "boxes=soup.findAll('div', class_='col-xs-6 col-sm-6 col-lg-6 addBox')"
   ]
  },
  {
   "cell_type": "code",
   "execution_count": 5,
   "metadata": {},
   "outputs": [
    {
     "data": {
      "text/plain": [
       "28"
      ]
     },
     "execution_count": 5,
     "metadata": {},
     "output_type": "execute_result"
    }
   ],
   "source": [
    "len(boxes)"
   ]
  },
  {
   "cell_type": "code",
   "execution_count": 6,
   "metadata": {},
   "outputs": [],
   "source": [
    "name=[]\n",
    "brand=[]\n",
    "for i in boxes:\n",
    "    name.append(i.find('span',class_='descText').text.strip())\n",
    "    brand.append(i.find('prop').text.strip())"
   ]
  },
  {
   "cell_type": "code",
   "execution_count": 7,
   "metadata": {},
   "outputs": [],
   "source": [
    "p=[]\n",
    "for i in boxes:\n",
    "    try:\n",
    "        p_tag=i.find('p').text.strip()\n",
    "        #print(p_tag)\n",
    "        if p_tag!=\"\":\n",
    "            p.append(p_tag)\n",
    "    except:\n",
    "        pass"
   ]
  },
  {
   "cell_type": "code",
   "execution_count": 8,
   "metadata": {},
   "outputs": [
    {
     "data": {
      "text/plain": [
       "25"
      ]
     },
     "execution_count": 8,
     "metadata": {},
     "output_type": "execute_result"
    }
   ],
   "source": [
    "len(p)"
   ]
  },
  {
   "cell_type": "code",
   "execution_count": 9,
   "metadata": {},
   "outputs": [
    {
     "data": {
      "text/plain": [
       "['- 8GB RAM | 512GB ROM- 6.4 inch HD Display- 12MP Primary Camera',\n",
       " '- 4GB RAM | 128GB ROM- 6.3 inch HD Display- 12.2MP Primary Camera | 8MP Front',\n",
       " '- 2GB RAM | 16GB ROM- 5.5 inch HD Display- 13MP Primary Camera | 5MP Front',\n",
       " '- 3GB RAM | 256GB ROM- 5.8 inch HD Display- 12MP Primary Camera | 7MP Front',\n",
       " '- 3GB RAM | 16GB ROM- 5.2 inch HD Display- 13MP Primary Camera | 5MP Front',\n",
       " '- 3GB RAM | 32GB ROM- 6.4 inch HD Display- 13MP Primary Camera | 5MP Front',\n",
       " '- 2GB RAM | 16GB ROM- 5 inch HD Display- 13MP Primary Camera | 5MP Front',\n",
       " '- 3GB RAM | 32GB ROM- 5.99 inch HD Display- 12MP Primary Camera | 16MP Front',\n",
       " '- 512MB RAM | 8GB ROM- 3.5 inch HD Display- 8MP Primary Camera | 1MP Front',\n",
       " '- 4GB RAM | 64GB ROM- 6.5 inch HD Display- 12MP Primary Camera | 7MP Front',\n",
       " '- 3GB RAM | 32GB ROM- 6 inch HD Display- 13MP Primary Camera | 8MP Front',\n",
       " '- 512MB RAM | 8GB ROM- 3.5 inch HD Display- 5MP Primary Camera | 0.3MP Front',\n",
       " '- 512MB RAM | 8GB ROM- 4.5 inch HD Display- 5MP Primary Camera',\n",
       " '- 4GB RAM | 64GB ROM- 5.5 inch HD Display- 13MP Primary Camera | 5MP Front',\n",
       " '- 2GB RAM | 16GB ROM- 5.2 inch HD Display- 8MP Primary Camera | 5MP Front',\n",
       " '- 4GB RAM | 64GB ROM- 5.7 inch HD Display- 13MP Primary Camera | 13MP Front',\n",
       " '- 512MB RAM | 8GB ROM- 4 inch HD Display- 5MP Primary Camera',\n",
       " '- 4GB RAM | 256GB ROM- 5.8 inch HD Display- 12MP Primary Camera | 7MP Front',\n",
       " '- 12GB RAM | 1TB ROM- 6.4 inch HD Display- 12MP Primary Camera',\n",
       " '- 4GB RAM | 64GB ROM- 6.26 inch HD Display- 12MP Primary Camera | 20MP Front',\n",
       " '- 2GB RAM | 16GB ROM- 5 inch HD Display- 13MP Primary Camera | 5MP Front',\n",
       " '- 4GB RAM | 32GB ROM- 5.2 inch HD Display- 12MP Primary Camera | 5MP Front',\n",
       " '- 4GB RAM | 64GB ROM- 5 inch HD Display- 13MP Primary Camera | 5MP Front',\n",
       " '- 2GB RAM | 16GB ROM- 6.98 inch HD Display- 13MP Primary Camera | 5MP Front',\n",
       " '- 4GB RAM | 64GB ROM- 5.99 inch HD Display- 12MP Primary Camera | 5MP Front']"
      ]
     },
     "execution_count": 9,
     "metadata": {},
     "output_type": "execute_result"
    }
   ],
   "source": [
    "p"
   ]
  },
  {
   "cell_type": "code",
   "execution_count": null,
   "metadata": {},
   "outputs": [],
   "source": []
  }
 ],
 "metadata": {
  "kernelspec": {
   "display_name": "Python 3",
   "language": "python",
   "name": "python3"
  },
  "language_info": {
   "codemirror_mode": {
    "name": "ipython",
    "version": 3
   },
   "file_extension": ".py",
   "mimetype": "text/x-python",
   "name": "python",
   "nbconvert_exporter": "python",
   "pygments_lexer": "ipython3",
   "version": "3.7.4"
  }
 },
 "nbformat": 4,
 "nbformat_minor": 2
}
